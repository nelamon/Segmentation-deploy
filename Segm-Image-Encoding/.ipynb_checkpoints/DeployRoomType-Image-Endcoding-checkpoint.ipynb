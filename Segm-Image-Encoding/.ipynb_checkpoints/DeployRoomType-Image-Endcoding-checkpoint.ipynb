{
 "cells": [
  {
   "cell_type": "code",
   "execution_count": 1,
   "metadata": {},
   "outputs": [
    {
     "ename": "ImportError",
     "evalue": "cannot import name 'model_fn' from 'serve' (/Volumes/Macintosh HD - Data/Work/deploy/AI-image-playground/sagemaker-endpoint/deploy/roomTypeSrc-Image-Encoding/serve.py)",
     "output_type": "error",
     "traceback": [
      "\u001b[0;31m---------------------------------------------------------------------------\u001b[0m",
      "\u001b[0;31mImportError\u001b[0m                               Traceback (most recent call last)",
      "\u001b[0;32m<ipython-input-1-3af1483f73a6>\u001b[0m in \u001b[0;36m<module>\u001b[0;34m\u001b[0m\n\u001b[1;32m      8\u001b[0m \u001b[0;31m#sys.path.append(\"roomTypeSrc-Image-Encoding/\")\u001b[0m\u001b[0;34m\u001b[0m\u001b[0;34m\u001b[0m\u001b[0;34m\u001b[0m\u001b[0m\n\u001b[1;32m      9\u001b[0m \u001b[0;34m\u001b[0m\u001b[0m\n\u001b[0;32m---> 10\u001b[0;31m \u001b[0;32mfrom\u001b[0m \u001b[0mserve\u001b[0m \u001b[0;32mimport\u001b[0m \u001b[0mmodel_fn\u001b[0m\u001b[0;34m\u001b[0m\u001b[0;34m\u001b[0m\u001b[0m\n\u001b[0m\u001b[1;32m     11\u001b[0m \u001b[0;32mfrom\u001b[0m \u001b[0mserve\u001b[0m \u001b[0;32mimport\u001b[0m \u001b[0minput_fn\u001b[0m\u001b[0;34m\u001b[0m\u001b[0;34m\u001b[0m\u001b[0m\n\u001b[1;32m     12\u001b[0m \u001b[0;32mfrom\u001b[0m \u001b[0mserve\u001b[0m \u001b[0;32mimport\u001b[0m \u001b[0mpredict_fn\u001b[0m\u001b[0;34m\u001b[0m\u001b[0;34m\u001b[0m\u001b[0m\n",
      "\u001b[0;31mImportError\u001b[0m: cannot import name 'model_fn' from 'serve' (/Volumes/Macintosh HD - Data/Work/deploy/AI-image-playground/sagemaker-endpoint/deploy/roomTypeSrc-Image-Encoding/serve.py)"
     ]
    }
   ],
   "source": [
    "#test serve locally\n",
    "\n",
    "import sys\n",
    "import json \n",
    "import requests\n",
    "import time\n",
    "\n",
    "#sys.path.append(\"roomTypeSrc-Image-Encoding/\")\n",
    "\n",
    "from serve import model_fn_enc\n",
    "\n",
    "from serve import model_fn_dec\n",
    "from serve import input_fn\n",
    "from serve import predict_fn\n",
    "from serve import output_fn\n",
    "\n",
    "model_dir = './models'\n",
    "model_enc = model_fn_enc(model_dir)\n",
    "model_dec = model_fn_dec(model_dir)\n",
    "\n",
    "\n",
    "'''\n",
    "JSON_CONTENT_TYPE = 'application/json'\n",
    "request = {}\n",
    "request['url'] = 'https://d2787ndpv5cwhz.cloudfront.net/721056f127ea05d688b7777fe0d6ab98c3b0c3bd_original.jpg'\n",
    "#request['url'] = 'https://dev.w3.org/SVG/tools/svgweb/samples/svg-files/AJ_Digital_Camera.svg'\n",
    "request['encoding'] = True\n",
    "image = input_fn(json.dumps(request),JSON_CONTENT_TYPE)\n",
    "s_time = time.time()\n",
    "score = predict_fn(image, model)\n",
    "print('elapsed:', time.time()-s_time)\n",
    "res = output_fn(score, JSON_CONTENT_TYPE)\n",
    "print(res)\n",
    "'''"
   ]
  },
  {
   "cell_type": "code",
   "execution_count": null,
   "metadata": {},
   "outputs": [],
   "source": []
  },
  {
   "cell_type": "code",
   "execution_count": 85,
   "metadata": {},
   "outputs": [
    {
     "name": "stdout",
     "output_type": "stream",
     "text": [
      "{'image_normalized': Image (3, 480, 640), 'roomType': 'diningroom', 'roomTypeScore': 0.3700970411300659, 'roomType2': 'kitchen', 'roomTypeScore2': 0.3651424050331116, 'openfloor': 0.9866126027870266}\n"
     ]
    }
   ],
   "source": [
    "import io\n",
    "from fastai.vision import *\n",
    "\n",
    "request = {}\n",
    "request['url'] = 'https://d2787ndpv5cwhz.cloudfront.net/f7bf037c1d4735a27ee41ee086c748b671505ade_original.jpg'\n",
    "response = requests.get(request['url'], stream=True)\n",
    "image_byte = io.BytesIO(response.content)\n",
    "res = {}\n",
    "res['image_normalized'] = open_image(image_byte)\n",
    "\n",
    "model_version = 'resnet-18-b2048-all-stage-2-focal-18-class-no-entryway.pkl'\n",
    "learn = load_learner(model_dir, file=model_version)\n",
    "predict_class,predict_idx,predict_values = model.predict(res['image_normalized'])\n",
    "topk = torch.topk(predict_values,2)\n",
    "scores = topk.values.tolist()\n",
    "indices = topk.indices.tolist()\n",
    "keys = list(learn.data.c2i.keys())\n",
    "values = list(learn.data.c2i.values())\n",
    "topk_idx=0\n",
    "res['roomType'] = keys[values[indices[0]]]\n",
    "res['roomTypeScore'] = scores[0]\n",
    "res['roomType2'] = keys[values[indices[1]]]\n",
    "res['roomTypeScore2'] = scores[1]\n",
    "if res['roomType'] == 'livingspace':\n",
    "    res['roomType'] = 'livingroom'\n",
    "if res['roomType2'] == 'livingspace':\n",
    "    res['roomType2'] = 'livingroom'\n",
    "#adhoc check whether it is openspace\n",
    "res['openfloor'] = 0\n",
    "openspace = 'kitchen diningroom livingroom'\n",
    "if res['roomType'] in openspace and res['roomType2'] in openspace:\n",
    "    res['openfloor'] = res['roomTypeScore2']/res['roomTypeScore']\n",
    "\n",
    "print(res)"
   ]
  },
  {
   "cell_type": "code",
   "execution_count": 1,
   "metadata": {},
   "outputs": [
    {
     "name": "stdout",
     "output_type": "stream",
     "text": [
      "sagemaker-us-east-1-149465543054\n",
      "s3://sagemaker-us-east-1-149465543054/sagemaker/image-encoding/resnet-18-b2048-all-stage-2-focal-18-class-no-entryway.tar.gz\n"
     ]
    }
   ],
   "source": [
    "import sagemaker\n",
    "from sagemaker.utils import name_from_base\n",
    "sagemaker_session = sagemaker.Session()\n",
    "bucket = sagemaker_session.default_bucket()\n",
    "print(bucket)\n",
    "prefix = f'sagemaker/{\"image-encoding\"}'\n",
    "model_artefact = sagemaker_session.upload_data(path=str('models/resnet-18-b2048-all-stage-2-focal-18-class-no-entryway.tar.gz'), bucket=bucket, key_prefix=prefix)\n",
    "print(model_artefact)"
   ]
  },
  {
   "cell_type": "code",
   "execution_count": 2,
   "metadata": {},
   "outputs": [
    {
     "name": "stderr",
     "output_type": "stream",
     "text": [
      "Parameter image will be renamed to image_uri in SageMaker Python SDK v2.\n"
     ]
    },
    {
     "name": "stdout",
     "output_type": "stream",
     "text": [
      "arn:aws:iam::149465543054:role/uc-sagemaker\n"
     ]
    },
    {
     "name": "stderr",
     "output_type": "stream",
     "text": [
      "'create_image_uri' will be deprecated in favor of 'ImageURIProvider' class in SageMaker Python SDK v2.\n",
      "Using already existing model: RECOgnition-roomtype-offline-prod-test\n"
     ]
    },
    {
     "name": "stdout",
     "output_type": "stream",
     "text": [
      "---------------!"
     ]
    },
    {
     "data": {
      "text/plain": [
       "<sagemaker.pytorch.model.PyTorchPredictor at 0x7fed848bacf8>"
      ]
     },
     "execution_count": 2,
     "metadata": {},
     "output_type": "execute_result"
    }
   ],
   "source": [
    "import sagemaker\n",
    "#!!!need to remove endpoint configuration and model to update a new model\n",
    "model_artefact = \"s3://sagemaker-us-east-1-149465543054/sagemaker/image-encoding/resnet-18-b2048-all-stage-2-focal-18-class-no-entryway.tar.gz\"\n",
    "role = sagemaker.get_execution_role()\n",
    "print(role)\n",
    "from sagemaker.pytorch.model import PyTorchModel\n",
    "model=PyTorchModel(model_data=model_artefact, name=\"RECOgnition-roomtype-offline-prod-test\",\n",
    "                   role=role, framework_version='1.1.0', source_dir='roomTypeSrc-Image-Encoding', \n",
    "                   entry_point='serve.py')\n",
    "model.deploy(initial_instance_count=1, instance_type='ml.t2.medium', update_endpoint=False)"
   ]
  },
  {
   "cell_type": "code",
   "execution_count": null,
   "metadata": {},
   "outputs": [],
   "source": []
  }
 ],
 "metadata": {
  "kernelspec": {
   "display_name": "Python 3",
   "language": "python",
   "name": "python3"
  },
  "language_info": {
   "codemirror_mode": {
    "name": "ipython",
    "version": 3
   },
   "file_extension": ".py",
   "mimetype": "text/x-python",
   "name": "python",
   "nbconvert_exporter": "python",
   "pygments_lexer": "ipython3",
   "version": "3.8.3"
  }
 },
 "nbformat": 4,
 "nbformat_minor": 2
}
